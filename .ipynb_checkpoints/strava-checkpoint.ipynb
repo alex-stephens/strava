{
 "cells": [
  {
   "cell_type": "code",
   "execution_count": 6,
   "metadata": {},
   "outputs": [],
   "source": [
    "from stravalib.client import Client\n",
    "import webbrowser\n",
    "import matplotlib.pyplot as plt\n",
    "from matplotlib import ticker\n",
    "\n",
    "import datetime\n",
    "import time\n",
    "\n",
    "# figures config\n",
    "plt.rcParams['figure.figsize'] = [10, 6]"
   ]
  },
  {
   "cell_type": "code",
   "execution_count": 2,
   "metadata": {},
   "outputs": [
    {
     "name": "stdout",
     "output_type": "stream",
     "text": [
      "Got access token:  5b33433bf6e4f3979d59b0c3192cb5a97dec3448\n"
     ]
    }
   ],
   "source": [
    "# read token and create client\n",
    "\n",
    "with open('access_token.txt') as f:\n",
    "    TOKEN = f.read()\n",
    "print('Got access token: ', TOKEN)\n",
    "\n",
    "client = Client(access_token=TOKEN)"
   ]
  },
  {
   "cell_type": "code",
   "execution_count": 3,
   "metadata": {},
   "outputs": [],
   "source": [
    "# extract all runs\n",
    "activities = list([a for a in client.get_activities(limit=100) if a.type == 'Run'])"
   ]
  },
  {
   "cell_type": "code",
   "execution_count": 31,
   "metadata": {},
   "outputs": [
    {
     "name": "stdout",
     "output_type": "stream",
     "text": [
      "Total runs      : 68\n",
      "Total distance  : 422.72 km\n",
      "Total time      : 1 day, 19:33:39\n",
      "\n",
      "Average distance: 6.22 km\n",
      "Average pace    : 6:10 min/km\n",
      "\n",
      "Farthest run    : 15.41 km\n",
      "Longest run     : 1:55:47\n"
     ]
    }
   ],
   "source": [
    "# Basic running statistics\n",
    "\n",
    "total_dist, total_time = 0, 0\n",
    "n = len(activities)\n",
    "\n",
    "longest_dist, longest_time = 0, 0\n",
    "\n",
    "for a in activities:\n",
    "    d, t = float(a.distance), a.elapsed_time.total_seconds()\n",
    "    total_dist += d\n",
    "    total_time += t\n",
    "    \n",
    "    longest_dist = max(longest_dist, 0.001*d)\n",
    "    longest_time = max(longest_time, t)\n",
    "    \n",
    "avg_dist = 0.001 * total_dist / n\n",
    "avg_pace = 60  / (3.6 * total_dist / total_time)\n",
    "\n",
    "print('Total runs       : {}'.format(n))\n",
    "print('Total distance   : {:.2f} km'.format(total_dist*0.001))\n",
    "print('Total time       : {}'.format(str(datetime.timedelta(seconds=total_time))))\n",
    "print()\n",
    "\n",
    "print('Average distance : {:0.2f} km'.format(avg_dist))\n",
    "print('Average pace     : {}:{:02d} min/km'.format(int(avg_pace), int(60*(avg_pace%1)) ))\n",
    "print()\n",
    "\n",
    "\n",
    "print('Farthest run     : {:0.2f} km'.format(longest_dist))\n",
    "print('Longest run      : {}'.format(str(datetime.timedelta(seconds=longest_time))))\n"
   ]
  },
  {
   "cell_type": "code",
   "execution_count": 7,
   "metadata": {},
   "outputs": [
    {
     "data": {
      "image/png": "[encoded data removed]",
      "text/plain": [
       "<Figure size 720x432 with 1 Axes>"
      ]
     },
     "metadata": {
      "needs_background": "light"
     },
     "output_type": "display_data"
    }
   ],
   "source": [
    "# Scatter plot - run pace vs duration\n",
    "\n",
    "# Extract data\n",
    "dist = []\n",
    "pace = []\n",
    "\n",
    "for a in activities:\n",
    "    d = a.distance / 1000 # duration in mins\n",
    "    dist.append(d) \n",
    "    \n",
    "    speed = a.average_speed # speed in m/s\n",
    "    p = 60  / (3.6 * speed)\n",
    "    pace.append(p)\n",
    "\n",
    "# Plot data\n",
    "fig, ax = plt.subplots()\n",
    "plt.scatter(dist, pace, alpha=0.5)\n",
    "plt.title('Run pace vs distance')\n",
    "plt.xlabel('Run distance (km)')\n",
    "plt.ylabel('Pace (min/km)')\n",
    "\n",
    "formatter = ticker.FuncFormatter(lambda t, x: time.strftime('%M:%S', time.gmtime(t*60)))\n",
    "ax.yaxis.set_major_formatter(formatter)\n",
    "\n",
    "plt.grid(True)\n",
    "\n",
    "plt.show()"
   ]
  },
  {
   "cell_type": "code",
   "execution_count": null,
   "metadata": {},
   "outputs": [],
   "source": []
  }
 ],
 "metadata": {
  "kernelspec": {
   "display_name": "Python 3",
   "language": "python",
   "name": "python3"
  },
  "language_info": {
   "codemirror_mode": {
    "name": "ipython",
    "version": 3
   },
   "file_extension": ".py",
   "mimetype": "text/x-python",
   "name": "python",
   "nbconvert_exporter": "python",
   "pygments_lexer": "ipython3",
   "version": "3.7.4"
  }
 },
 "nbformat": 4,
 "nbformat_minor": 2
}
